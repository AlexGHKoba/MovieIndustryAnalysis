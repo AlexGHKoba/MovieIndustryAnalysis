{
 "cells": [
  {
   "cell_type": "code",
   "execution_count": 1,
   "id": "9ee8d69f",
   "metadata": {},
   "outputs": [],
   "source": [
    "# Import libraries\n",
    "import pandas as pd\n",
    "import numpy as np\n",
    "import os\n",
    "path = r'C:\\Users\\User\\Movie Industry Analysis'"
   ]
  },
  {
   "cell_type": "markdown",
   "id": "67c39470",
   "metadata": {},
   "source": [
    "### Source dataframe"
   ]
  },
  {
   "cell_type": "code",
   "execution_count": 2,
   "id": "f9ec1759",
   "metadata": {},
   "outputs": [],
   "source": [
    "df = pd.read_csv(os.path.join(path, '02 Data', 'Original Data', 'movies.csv'), index_col = False)"
   ]
  },
  {
   "cell_type": "code",
   "execution_count": 3,
   "id": "4bf5b8dc",
   "metadata": {},
   "outputs": [
    {
     "data": {
      "text/plain": [
       "Index(['name', 'rating', 'genre', 'year', 'released', 'score', 'votes',\n",
       "       'director', 'writer', 'star', 'country', 'budget', 'gross', 'company',\n",
       "       'runtime'],\n",
       "      dtype='object')"
      ]
     },
     "execution_count": 3,
     "metadata": {},
     "output_type": "execute_result"
    }
   ],
   "source": [
    "df.columns "
   ]
  },
  {
   "cell_type": "code",
   "execution_count": 4,
   "id": "e0b6c47b",
   "metadata": {},
   "outputs": [
    {
     "name": "stdout",
     "output_type": "stream",
     "text": [
      "<class 'pandas.core.frame.DataFrame'>\n",
      "RangeIndex: 7668 entries, 0 to 7667\n",
      "Data columns (total 15 columns):\n",
      " #   Column    Non-Null Count  Dtype  \n",
      "---  ------    --------------  -----  \n",
      " 0   name      7668 non-null   object \n",
      " 1   rating    7591 non-null   object \n",
      " 2   genre     7668 non-null   object \n",
      " 3   year      7668 non-null   int64  \n",
      " 4   released  7666 non-null   object \n",
      " 5   score     7665 non-null   float64\n",
      " 6   votes     7665 non-null   float64\n",
      " 7   director  7668 non-null   object \n",
      " 8   writer    7665 non-null   object \n",
      " 9   star      7667 non-null   object \n",
      " 10  country   7665 non-null   object \n",
      " 11  budget    5497 non-null   float64\n",
      " 12  gross     7479 non-null   float64\n",
      " 13  company   7651 non-null   object \n",
      " 14  runtime   7664 non-null   float64\n",
      "dtypes: float64(5), int64(1), object(9)\n",
      "memory usage: 898.7+ KB\n"
     ]
    }
   ],
   "source": [
    "df.info() "
   ]
  },
  {
   "cell_type": "markdown",
   "id": "85aa2943",
   "metadata": {},
   "source": [
    "###  The column \"released\" contents mixed both date and country. I don't need that and will delete the column"
   ]
  },
  {
   "cell_type": "code",
   "execution_count": 5,
   "id": "2e3b6d32",
   "metadata": {},
   "outputs": [],
   "source": [
    "df.drop('released', axis=1, inplace=True)"
   ]
  },
  {
   "cell_type": "code",
   "execution_count": 6,
   "id": "2ee5808c",
   "metadata": {},
   "outputs": [
    {
     "data": {
      "text/plain": [
       "(7668, 14)"
      ]
     },
     "execution_count": 6,
     "metadata": {},
     "output_type": "execute_result"
    }
   ],
   "source": [
    "df.shape"
   ]
  },
  {
   "cell_type": "markdown",
   "id": "f27504dd",
   "metadata": {},
   "source": [
    "## 1. Cleaning dataset"
   ]
  },
  {
   "cell_type": "markdown",
   "id": "53389ae5",
   "metadata": {},
   "source": [
    "### Duplicates"
   ]
  },
  {
   "cell_type": "code",
   "execution_count": 7,
   "id": "5b11cf91",
   "metadata": {},
   "outputs": [
    {
     "data": {
      "text/html": [
       "<div>\n",
       "<style scoped>\n",
       "    .dataframe tbody tr th:only-of-type {\n",
       "        vertical-align: middle;\n",
       "    }\n",
       "\n",
       "    .dataframe tbody tr th {\n",
       "        vertical-align: top;\n",
       "    }\n",
       "\n",
       "    .dataframe thead th {\n",
       "        text-align: right;\n",
       "    }\n",
       "</style>\n",
       "<table border=\"1\" class=\"dataframe\">\n",
       "  <thead>\n",
       "    <tr style=\"text-align: right;\">\n",
       "      <th></th>\n",
       "      <th>name</th>\n",
       "      <th>rating</th>\n",
       "      <th>genre</th>\n",
       "      <th>year</th>\n",
       "      <th>score</th>\n",
       "      <th>votes</th>\n",
       "      <th>director</th>\n",
       "      <th>writer</th>\n",
       "      <th>star</th>\n",
       "      <th>country</th>\n",
       "      <th>budget</th>\n",
       "      <th>gross</th>\n",
       "      <th>company</th>\n",
       "      <th>runtime</th>\n",
       "    </tr>\n",
       "  </thead>\n",
       "  <tbody>\n",
       "  </tbody>\n",
       "</table>\n",
       "</div>"
      ],
      "text/plain": [
       "Empty DataFrame\n",
       "Columns: [name, rating, genre, year, score, votes, director, writer, star, country, budget, gross, company, runtime]\n",
       "Index: []"
      ]
     },
     "execution_count": 7,
     "metadata": {},
     "output_type": "execute_result"
    }
   ],
   "source": [
    "df_dups = df[df.duplicated()]\n",
    "df_dups"
   ]
  },
  {
   "cell_type": "markdown",
   "id": "eacdedc1",
   "metadata": {},
   "source": [
    "### No duplicates"
   ]
  },
  {
   "cell_type": "markdown",
   "id": "2f235e9f",
   "metadata": {},
   "source": [
    "### Test for mixed data"
   ]
  },
  {
   "cell_type": "code",
   "execution_count": 8,
   "id": "ffdccfcc",
   "metadata": {},
   "outputs": [
    {
     "name": "stdout",
     "output_type": "stream",
     "text": [
      "rating\n",
      "writer\n",
      "star\n",
      "country\n",
      "company\n"
     ]
    }
   ],
   "source": [
    "for col in df.columns.tolist():\n",
    "  md = (df[[col]].applymap(type) != df[[col]].iloc[0].apply(type)).any(axis = 1)\n",
    "  if len (df[md]) > 0:\n",
    "    print (col)\n"
   ]
  },
  {
   "cell_type": "code",
   "execution_count": 9,
   "id": "39de4a37",
   "metadata": {},
   "outputs": [
    {
     "data": {
      "text/plain": [
       "array(['United Kingdom', 'United States', 'South Africa', 'West Germany',\n",
       "       'Canada', 'Australia', 'Libya', 'Italy', 'Soviet Union', 'France',\n",
       "       'Hong Kong', 'South Korea', 'Sweden', 'Spain', 'Mexico',\n",
       "       'Switzerland', 'Netherlands', 'New Zealand', 'Philippines',\n",
       "       'Israel', 'Japan', 'Hungary', 'Brazil', 'Yugoslavia', 'Argentina',\n",
       "       'Taiwan', 'Ireland', 'Denmark', 'Germany', 'Iran', 'China',\n",
       "       'Belgium', 'Austria', 'Portugal', 'Vietnam',\n",
       "       'Republic of Macedonia', 'Russia',\n",
       "       'Federal Republic of Yugoslavia', 'Greece', 'Czech Republic',\n",
       "       'Norway', 'India', 'Jamaica', 'Aruba', 'Thailand', 'Colombia',\n",
       "       'Romania', nan, 'United Arab Emirates', 'Indonesia', 'Turkey',\n",
       "       'Serbia', 'Poland', 'Kenya', 'Finland', 'Iceland', 'Chile',\n",
       "       'Panama', 'Malta', 'Lebanon'], dtype=object)"
      ]
     },
     "execution_count": 9,
     "metadata": {},
     "output_type": "execute_result"
    }
   ],
   "source": [
    "# What is the problem in the \"country\" column?\n",
    "df.country.unique()"
   ]
  },
  {
   "cell_type": "markdown",
   "id": "88161de2",
   "metadata": {},
   "source": [
    "### There is "
   ]
  },
  {
   "cell_type": "markdown",
   "id": "4c62e268",
   "metadata": {},
   "source": [
    "### Mixed data in the columns \"writer\", \"star\", \"country\", and \"company\" will not create problems"
   ]
  },
  {
   "cell_type": "code",
   "execution_count": 10,
   "id": "9b19504d",
   "metadata": {},
   "outputs": [
    {
     "data": {
      "text/plain": [
       "array(['R', 'PG', 'G', nan, 'Not Rated', 'NC-17', 'Approved', 'TV-PG',\n",
       "       'PG-13', 'Unrated', 'X', 'TV-MA', 'TV-14'], dtype=object)"
      ]
     },
     "execution_count": 10,
     "metadata": {},
     "output_type": "execute_result"
    }
   ],
   "source": [
    "df.rating.unique()"
   ]
  },
  {
   "cell_type": "markdown",
   "id": "970854fd",
   "metadata": {},
   "source": [
    "### I will change values 'Not Rated' in a column \"rating\" to 'Unrated'"
   ]
  },
  {
   "cell_type": "code",
   "execution_count": 11,
   "id": "4ff65e47",
   "metadata": {},
   "outputs": [],
   "source": [
    "df.loc[df['rating'] == 'Not Rated', 'rating'] = 'Unrated'"
   ]
  },
  {
   "cell_type": "code",
   "execution_count": 12,
   "id": "7757e986",
   "metadata": {},
   "outputs": [
    {
     "data": {
      "text/plain": [
       "array(['R', 'PG', 'G', nan, 'Unrated', 'NC-17', 'Approved', 'TV-PG',\n",
       "       'PG-13', 'X', 'TV-MA', 'TV-14'], dtype=object)"
      ]
     },
     "execution_count": 12,
     "metadata": {},
     "output_type": "execute_result"
    }
   ],
   "source": [
    "df.rating.unique()"
   ]
  },
  {
   "cell_type": "markdown",
   "id": "20a34c50",
   "metadata": {},
   "source": [
    "### Test for missing data"
   ]
  },
  {
   "cell_type": "code",
   "execution_count": 13,
   "id": "07c77095",
   "metadata": {},
   "outputs": [
    {
     "data": {
      "text/plain": [
       "name           0\n",
       "rating        77\n",
       "genre          0\n",
       "year           0\n",
       "score          3\n",
       "votes          3\n",
       "director       0\n",
       "writer         3\n",
       "star           1\n",
       "country        3\n",
       "budget      2171\n",
       "gross        189\n",
       "company       17\n",
       "runtime        4\n",
       "dtype: int64"
      ]
     },
     "execution_count": 13,
     "metadata": {},
     "output_type": "execute_result"
    }
   ],
   "source": [
    "df.isnull().sum() "
   ]
  },
  {
   "cell_type": "code",
   "execution_count": 14,
   "id": "997f881d",
   "metadata": {},
   "outputs": [],
   "source": [
    "# Clean 'score'\n",
    "df_clean = df[df['score'].isnull() == False] "
   ]
  },
  {
   "cell_type": "code",
   "execution_count": 15,
   "id": "ea1a060c",
   "metadata": {},
   "outputs": [
    {
     "data": {
      "text/plain": [
       "(7665, 14)"
      ]
     },
     "execution_count": 15,
     "metadata": {},
     "output_type": "execute_result"
    }
   ],
   "source": [
    "df_clean.shape"
   ]
  },
  {
   "cell_type": "code",
   "execution_count": 16,
   "id": "43746beb",
   "metadata": {},
   "outputs": [
    {
     "data": {
      "text/plain": [
       "(7665, 14)"
      ]
     },
     "execution_count": 16,
     "metadata": {},
     "output_type": "execute_result"
    }
   ],
   "source": [
    "# Clean 'votes'\n",
    "df_clean = df_clean[df_clean['votes'].isnull() == False]\n",
    "df_clean.shape"
   ]
  },
  {
   "cell_type": "code",
   "execution_count": 17,
   "id": "8e9b3568",
   "metadata": {},
   "outputs": [
    {
     "data": {
      "text/plain": [
       "(7661, 14)"
      ]
     },
     "execution_count": 17,
     "metadata": {},
     "output_type": "execute_result"
    }
   ],
   "source": [
    "# Clean 'runtime'\n",
    "df_clean = df_clean[df_clean['runtime'].isnull() == False]\n",
    "df_clean.shape"
   ]
  },
  {
   "cell_type": "code",
   "execution_count": 18,
   "id": "d331ec9c",
   "metadata": {},
   "outputs": [],
   "source": [
    "# Median value for 'gross' \n",
    "df_clean['gross'] = df_clean['gross'].fillna(df_clean['gross'].median())"
   ]
  },
  {
   "cell_type": "code",
   "execution_count": 19,
   "id": "34742c56",
   "metadata": {},
   "outputs": [
    {
     "data": {
      "text/plain": [
       "(7648, 14)"
      ]
     },
     "execution_count": 19,
     "metadata": {},
     "output_type": "execute_result"
    }
   ],
   "source": [
    "# Clean 'company'\n",
    "df_clean = df_clean[df_clean['company'].isnull() == False]\n",
    "df_clean.shape"
   ]
  },
  {
   "cell_type": "code",
   "execution_count": 20,
   "id": "87a675af",
   "metadata": {},
   "outputs": [
    {
     "data": {
      "text/plain": [
       "name           0\n",
       "rating        71\n",
       "genre          0\n",
       "year           0\n",
       "score          0\n",
       "votes          0\n",
       "director       0\n",
       "writer         3\n",
       "star           1\n",
       "country        1\n",
       "budget      2160\n",
       "gross          0\n",
       "company        0\n",
       "runtime        0\n",
       "dtype: int64"
      ]
     },
     "execution_count": 20,
     "metadata": {},
     "output_type": "execute_result"
    }
   ],
   "source": [
    "df_clean.isnull().sum() "
   ]
  },
  {
   "cell_type": "markdown",
   "id": "c86a8fd5",
   "metadata": {},
   "source": [
    "###  2169 values of the 'budget' are missing. I need to enter their values. "
   ]
  },
  {
   "cell_type": "code",
   "execution_count": 21,
   "id": "de9e02e0",
   "metadata": {},
   "outputs": [
    {
     "data": {
      "text/html": [
       "<div>\n",
       "<style scoped>\n",
       "    .dataframe tbody tr th:only-of-type {\n",
       "        vertical-align: middle;\n",
       "    }\n",
       "\n",
       "    .dataframe tbody tr th {\n",
       "        vertical-align: top;\n",
       "    }\n",
       "\n",
       "    .dataframe thead th {\n",
       "        text-align: right;\n",
       "    }\n",
       "</style>\n",
       "<table border=\"1\" class=\"dataframe\">\n",
       "  <thead>\n",
       "    <tr style=\"text-align: right;\">\n",
       "      <th></th>\n",
       "      <th>year</th>\n",
       "      <th>score</th>\n",
       "      <th>votes</th>\n",
       "      <th>budget</th>\n",
       "      <th>gross</th>\n",
       "      <th>runtime</th>\n",
       "    </tr>\n",
       "  </thead>\n",
       "  <tbody>\n",
       "    <tr>\n",
       "      <th>count</th>\n",
       "      <td>7648.000000</td>\n",
       "      <td>7648.000000</td>\n",
       "      <td>7.648000e+03</td>\n",
       "      <td>5.488000e+03</td>\n",
       "      <td>7.648000e+03</td>\n",
       "      <td>7648.000000</td>\n",
       "    </tr>\n",
       "    <tr>\n",
       "      <th>mean</th>\n",
       "      <td>2000.402197</td>\n",
       "      <td>6.392338</td>\n",
       "      <td>8.827188e+04</td>\n",
       "      <td>3.563924e+07</td>\n",
       "      <td>7.723003e+07</td>\n",
       "      <td>107.279681</td>\n",
       "    </tr>\n",
       "    <tr>\n",
       "      <th>std</th>\n",
       "      <td>11.138422</td>\n",
       "      <td>0.968137</td>\n",
       "      <td>1.634614e+05</td>\n",
       "      <td>4.147028e+07</td>\n",
       "      <td>1.641001e+08</td>\n",
       "      <td>18.582572</td>\n",
       "    </tr>\n",
       "    <tr>\n",
       "      <th>min</th>\n",
       "      <td>1980.000000</td>\n",
       "      <td>1.900000</td>\n",
       "      <td>7.000000e+00</td>\n",
       "      <td>3.000000e+03</td>\n",
       "      <td>3.090000e+02</td>\n",
       "      <td>55.000000</td>\n",
       "    </tr>\n",
       "    <tr>\n",
       "      <th>25%</th>\n",
       "      <td>1991.000000</td>\n",
       "      <td>5.800000</td>\n",
       "      <td>9.200000e+03</td>\n",
       "      <td>1.000000e+07</td>\n",
       "      <td>4.713798e+06</td>\n",
       "      <td>95.000000</td>\n",
       "    </tr>\n",
       "    <tr>\n",
       "      <th>50%</th>\n",
       "      <td>2000.000000</td>\n",
       "      <td>6.500000</td>\n",
       "      <td>3.300000e+04</td>\n",
       "      <td>2.100000e+07</td>\n",
       "      <td>2.018496e+07</td>\n",
       "      <td>104.000000</td>\n",
       "    </tr>\n",
       "    <tr>\n",
       "      <th>75%</th>\n",
       "      <td>2010.000000</td>\n",
       "      <td>7.100000</td>\n",
       "      <td>9.325000e+04</td>\n",
       "      <td>4.500000e+07</td>\n",
       "      <td>7.312031e+07</td>\n",
       "      <td>116.000000</td>\n",
       "    </tr>\n",
       "    <tr>\n",
       "      <th>max</th>\n",
       "      <td>2020.000000</td>\n",
       "      <td>9.300000</td>\n",
       "      <td>2.400000e+06</td>\n",
       "      <td>3.560000e+08</td>\n",
       "      <td>2.847246e+09</td>\n",
       "      <td>366.000000</td>\n",
       "    </tr>\n",
       "  </tbody>\n",
       "</table>\n",
       "</div>"
      ],
      "text/plain": [
       "              year        score         votes        budget         gross  \\\n",
       "count  7648.000000  7648.000000  7.648000e+03  5.488000e+03  7.648000e+03   \n",
       "mean   2000.402197     6.392338  8.827188e+04  3.563924e+07  7.723003e+07   \n",
       "std      11.138422     0.968137  1.634614e+05  4.147028e+07  1.641001e+08   \n",
       "min    1980.000000     1.900000  7.000000e+00  3.000000e+03  3.090000e+02   \n",
       "25%    1991.000000     5.800000  9.200000e+03  1.000000e+07  4.713798e+06   \n",
       "50%    2000.000000     6.500000  3.300000e+04  2.100000e+07  2.018496e+07   \n",
       "75%    2010.000000     7.100000  9.325000e+04  4.500000e+07  7.312031e+07   \n",
       "max    2020.000000     9.300000  2.400000e+06  3.560000e+08  2.847246e+09   \n",
       "\n",
       "           runtime  \n",
       "count  7648.000000  \n",
       "mean    107.279681  \n",
       "std      18.582572  \n",
       "min      55.000000  \n",
       "25%      95.000000  \n",
       "50%     104.000000  \n",
       "75%     116.000000  \n",
       "max     366.000000  "
      ]
     },
     "execution_count": 21,
     "metadata": {},
     "output_type": "execute_result"
    }
   ],
   "source": [
    "df_clean.describe()"
   ]
  },
  {
   "cell_type": "markdown",
   "id": "1b451efc",
   "metadata": {},
   "source": [
    "###  We see that this variable has a very big range: from 3,000 to 356,000,000.\n",
    "###  We cannot use the mean values. I will use the median values instead. "
   ]
  },
  {
   "cell_type": "code",
   "execution_count": 22,
   "id": "92f5bb40",
   "metadata": {},
   "outputs": [
    {
     "data": {
      "text/plain": [
       "21000000.0"
      ]
     },
     "execution_count": 22,
     "metadata": {},
     "output_type": "execute_result"
    }
   ],
   "source": [
    "df_clean['budget'].median()"
   ]
  },
  {
   "cell_type": "code",
   "execution_count": 23,
   "id": "c3b30c92",
   "metadata": {},
   "outputs": [],
   "source": [
    "df_clean['budget'] = df_clean['budget'].fillna(df_clean['budget'].median())"
   ]
  },
  {
   "cell_type": "code",
   "execution_count": 24,
   "id": "973b3759",
   "metadata": {},
   "outputs": [
    {
     "data": {
      "text/plain": [
       "name         0\n",
       "rating      71\n",
       "genre        0\n",
       "year         0\n",
       "score        0\n",
       "votes        0\n",
       "director     0\n",
       "writer       3\n",
       "star         1\n",
       "country      1\n",
       "budget       0\n",
       "gross        0\n",
       "company      0\n",
       "runtime      0\n",
       "dtype: int64"
      ]
     },
     "execution_count": 24,
     "metadata": {},
     "output_type": "execute_result"
    }
   ],
   "source": [
    "df_clean.isnull().sum() "
   ]
  },
  {
   "cell_type": "markdown",
   "id": "95a2c9c3",
   "metadata": {},
   "source": [
    "### Right now we don't have any missing data. "
   ]
  },
  {
   "cell_type": "code",
   "execution_count": 25,
   "id": "1f0c1ea9",
   "metadata": {},
   "outputs": [],
   "source": [
    "# Export the df_clean dataset\n",
    "# df_clean.to_csv(os.path.join(path, '02 Data', 'Prepared Data', 'df_clean.csv'), index=False)    "
   ]
  },
  {
   "cell_type": "markdown",
   "id": "d31e8d37",
   "metadata": {},
   "source": [
    "## 2. Data profile"
   ]
  },
  {
   "cell_type": "code",
   "execution_count": 26,
   "id": "293a88b1",
   "metadata": {},
   "outputs": [
    {
     "data": {
      "text/html": [
       "<div>\n",
       "<style scoped>\n",
       "    .dataframe tbody tr th:only-of-type {\n",
       "        vertical-align: middle;\n",
       "    }\n",
       "\n",
       "    .dataframe tbody tr th {\n",
       "        vertical-align: top;\n",
       "    }\n",
       "\n",
       "    .dataframe thead th {\n",
       "        text-align: right;\n",
       "    }\n",
       "</style>\n",
       "<table border=\"1\" class=\"dataframe\">\n",
       "  <thead>\n",
       "    <tr style=\"text-align: right;\">\n",
       "      <th></th>\n",
       "      <th>year</th>\n",
       "      <th>score</th>\n",
       "      <th>votes</th>\n",
       "      <th>budget</th>\n",
       "      <th>gross</th>\n",
       "      <th>runtime</th>\n",
       "    </tr>\n",
       "  </thead>\n",
       "  <tbody>\n",
       "    <tr>\n",
       "      <th>count</th>\n",
       "      <td>7648.000000</td>\n",
       "      <td>7648.000000</td>\n",
       "      <td>7.648000e+03</td>\n",
       "      <td>7.648000e+03</td>\n",
       "      <td>7.648000e+03</td>\n",
       "      <td>7648.000000</td>\n",
       "    </tr>\n",
       "    <tr>\n",
       "      <th>mean</th>\n",
       "      <td>2000.402197</td>\n",
       "      <td>6.392338</td>\n",
       "      <td>8.827188e+04</td>\n",
       "      <td>3.150473e+07</td>\n",
       "      <td>7.723003e+07</td>\n",
       "      <td>107.279681</td>\n",
       "    </tr>\n",
       "    <tr>\n",
       "      <th>std</th>\n",
       "      <td>11.138422</td>\n",
       "      <td>0.968137</td>\n",
       "      <td>1.634614e+05</td>\n",
       "      <td>3.574136e+07</td>\n",
       "      <td>1.641001e+08</td>\n",
       "      <td>18.582572</td>\n",
       "    </tr>\n",
       "    <tr>\n",
       "      <th>min</th>\n",
       "      <td>1980.000000</td>\n",
       "      <td>1.900000</td>\n",
       "      <td>7.000000e+00</td>\n",
       "      <td>3.000000e+03</td>\n",
       "      <td>3.090000e+02</td>\n",
       "      <td>55.000000</td>\n",
       "    </tr>\n",
       "    <tr>\n",
       "      <th>25%</th>\n",
       "      <td>1991.000000</td>\n",
       "      <td>5.800000</td>\n",
       "      <td>9.200000e+03</td>\n",
       "      <td>1.400000e+07</td>\n",
       "      <td>4.713798e+06</td>\n",
       "      <td>95.000000</td>\n",
       "    </tr>\n",
       "    <tr>\n",
       "      <th>50%</th>\n",
       "      <td>2000.000000</td>\n",
       "      <td>6.500000</td>\n",
       "      <td>3.300000e+04</td>\n",
       "      <td>2.100000e+07</td>\n",
       "      <td>2.018496e+07</td>\n",
       "      <td>104.000000</td>\n",
       "    </tr>\n",
       "    <tr>\n",
       "      <th>75%</th>\n",
       "      <td>2010.000000</td>\n",
       "      <td>7.100000</td>\n",
       "      <td>9.325000e+04</td>\n",
       "      <td>3.200000e+07</td>\n",
       "      <td>7.312031e+07</td>\n",
       "      <td>116.000000</td>\n",
       "    </tr>\n",
       "    <tr>\n",
       "      <th>max</th>\n",
       "      <td>2020.000000</td>\n",
       "      <td>9.300000</td>\n",
       "      <td>2.400000e+06</td>\n",
       "      <td>3.560000e+08</td>\n",
       "      <td>2.847246e+09</td>\n",
       "      <td>366.000000</td>\n",
       "    </tr>\n",
       "  </tbody>\n",
       "</table>\n",
       "</div>"
      ],
      "text/plain": [
       "              year        score         votes        budget         gross  \\\n",
       "count  7648.000000  7648.000000  7.648000e+03  7.648000e+03  7.648000e+03   \n",
       "mean   2000.402197     6.392338  8.827188e+04  3.150473e+07  7.723003e+07   \n",
       "std      11.138422     0.968137  1.634614e+05  3.574136e+07  1.641001e+08   \n",
       "min    1980.000000     1.900000  7.000000e+00  3.000000e+03  3.090000e+02   \n",
       "25%    1991.000000     5.800000  9.200000e+03  1.400000e+07  4.713798e+06   \n",
       "50%    2000.000000     6.500000  3.300000e+04  2.100000e+07  2.018496e+07   \n",
       "75%    2010.000000     7.100000  9.325000e+04  3.200000e+07  7.312031e+07   \n",
       "max    2020.000000     9.300000  2.400000e+06  3.560000e+08  2.847246e+09   \n",
       "\n",
       "           runtime  \n",
       "count  7648.000000  \n",
       "mean    107.279681  \n",
       "std      18.582572  \n",
       "min      55.000000  \n",
       "25%      95.000000  \n",
       "50%     104.000000  \n",
       "75%     116.000000  \n",
       "max     366.000000  "
      ]
     },
     "execution_count": 26,
     "metadata": {},
     "output_type": "execute_result"
    }
   ],
   "source": [
    "# Descriptive Statistics\n",
    "df_clean.describe() \n",
    "#df_clean1=df_clean"
   ]
  },
  {
   "cell_type": "markdown",
   "id": "493c8eab",
   "metadata": {},
   "source": [
    "### Considering the min/max values of numerical variables there are no values outside of reasonable range\n",
    "###    "
   ]
  },
  {
   "cell_type": "code",
   "execution_count": 27,
   "id": "3782928b",
   "metadata": {},
   "outputs": [
    {
     "ename": "NameError",
     "evalue": "name 'df_clean1' is not defined",
     "output_type": "error",
     "traceback": [
      "\u001b[1;31m---------------------------------------------------------------------------\u001b[0m",
      "\u001b[1;31mNameError\u001b[0m                                 Traceback (most recent call last)",
      "Cell \u001b[1;32mIn[27], line 2\u001b[0m\n\u001b[0;32m      1\u001b[0m \u001b[38;5;66;03m# data types in a table\u001b[39;00m\n\u001b[1;32m----> 2\u001b[0m df_clean1\u001b[38;5;241m.\u001b[39mdtypes\n",
      "\u001b[1;31mNameError\u001b[0m: name 'df_clean1' is not defined"
     ]
    }
   ],
   "source": [
    "# data types in a table\n",
    "df_clean1.dtypes"
   ]
  },
  {
   "cell_type": "code",
   "execution_count": null,
   "id": "86fb0259",
   "metadata": {},
   "outputs": [],
   "source": [
    "# Change type of 'year' from int64 to text\n",
    "df_clean1['year'] = df_clean1['year'].astype('str') "
   ]
  },
  {
   "cell_type": "code",
   "execution_count": null,
   "id": "599fb992",
   "metadata": {},
   "outputs": [],
   "source": [
    "df_clean1.dtypes"
   ]
  },
  {
   "cell_type": "code",
   "execution_count": null,
   "id": "df1a7786",
   "metadata": {},
   "outputs": [],
   "source": [
    "# Export the df_clean1 dataset\n",
    "df_clean1.to_csv(os.path.join(path, '02 Data', 'Prepared Data', 'df_clean2.csv'), index=False)    "
   ]
  },
  {
   "cell_type": "code",
   "execution_count": null,
   "id": "4f89b159",
   "metadata": {},
   "outputs": [],
   "source": [
    "df_clean2 = df_clean1"
   ]
  },
  {
   "cell_type": "code",
   "execution_count": null,
   "id": "c4295eee",
   "metadata": {},
   "outputs": [],
   "source": [
    "# Descriptive Statistics after change of type\n",
    "df_clean2.describe()"
   ]
  },
  {
   "cell_type": "code",
   "execution_count": null,
   "id": "318a9151",
   "metadata": {},
   "outputs": [],
   "source": [
    "df_clean2.info() "
   ]
  },
  {
   "cell_type": "markdown",
   "id": "f2e730f1",
   "metadata": {},
   "source": [
    "### Generate correlation matrix"
   ]
  },
  {
   "cell_type": "code",
   "execution_count": null,
   "id": "10acf53b",
   "metadata": {},
   "outputs": [],
   "source": [
    "# Create a new dataframe from df_clean2 contains only numerical values\n",
    "df_numeric = df_clean2.drop(columns=['name', 'rating', 'genre', 'year', 'director', 'writer', 'star', 'country', 'company'])"
   ]
  },
  {
   "cell_type": "code",
   "execution_count": null,
   "id": "5ad18031",
   "metadata": {},
   "outputs": [],
   "source": [
    "df_numeric.corr()"
   ]
  },
  {
   "cell_type": "code",
   "execution_count": null,
   "id": "deb9db3f",
   "metadata": {},
   "outputs": [],
   "source": [
    "# Export the df_numeric dataset\n",
    "df_numeric.to_csv(os.path.join(path, '02 Data', 'Prepared Data', 'df_numeric_.csv'), index=False)    "
   ]
  },
  {
   "cell_type": "code",
   "execution_count": null,
   "id": "b53ffa08",
   "metadata": {},
   "outputs": [],
   "source": [
    "# Numbers of unique values\n",
    "df_clean2.nunique()"
   ]
  },
  {
   "cell_type": "code",
   "execution_count": null,
   "id": "91f81495",
   "metadata": {},
   "outputs": [],
   "source": [
    "# Modes for columns\n",
    "modes = df_clean2.mode()\n",
    "modes.head(10)"
   ]
  },
  {
   "cell_type": "code",
   "execution_count": null,
   "id": "fe1726f2",
   "metadata": {},
   "outputs": [],
   "source": [
    "# Medians for columns\n",
    "print(df_clean2.median(numeric_only=True))"
   ]
  },
  {
   "cell_type": "code",
   "execution_count": null,
   "id": "eeb58996",
   "metadata": {},
   "outputs": [],
   "source": []
  }
 ],
 "metadata": {
  "kernelspec": {
   "display_name": "Python 3 (ipykernel)",
   "language": "python",
   "name": "python3"
  },
  "language_info": {
   "codemirror_mode": {
    "name": "ipython",
    "version": 3
   },
   "file_extension": ".py",
   "mimetype": "text/x-python",
   "name": "python",
   "nbconvert_exporter": "python",
   "pygments_lexer": "ipython3",
   "version": "3.11.4"
  }
 },
 "nbformat": 4,
 "nbformat_minor": 5
}
